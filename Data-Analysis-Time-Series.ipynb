{
 "cells": [
  {
   "cell_type": "code",
   "execution_count": 157,
   "metadata": {
    "pycharm": {
     "is_executing": false
    }
   },
   "outputs": [],
   "source": [
    "import pandas as pd\n",
    "import matplotlib.pyplot as plt"
   ]
  },
  {
   "cell_type": "code",
   "execution_count": 158,
   "metadata": {
    "pycharm": {
     "is_executing": false
    }
   },
   "outputs": [],
   "source": [
    "confirmed = pd.read_csv('COVID-19/csse_covid_19_data/csse_covid_19_time_series/time_series_19-covid-Confirmed.csv')\n",
    "deaths = pd.read_csv('COVID-19/csse_covid_19_data/csse_covid_19_time_series/time_series_19-covid-Deaths.csv')\n",
    "recovery = pd.read_csv('COVID-19/csse_covid_19_data/csse_covid_19_time_series/time_series_19-covid-Recovered.csv')"
   ]
  },
  {
   "cell_type": "code",
   "execution_count": 159,
   "metadata": {
    "pycharm": {
     "is_executing": false
    }
   },
   "outputs": [
    {
     "data": {
      "text/plain": "  Province/State  Country/Region      Lat      Long  1/22/20  1/23/20  \\\n0          Anhui  Mainland China  31.8257  117.2264        1        9   \n1        Beijing  Mainland China  40.1824  116.4142       14       22   \n2      Chongqing  Mainland China  30.0572  107.8740        6        9   \n3         Fujian  Mainland China  26.0789  117.9874        1        5   \n4          Gansu  Mainland China  36.0611  103.8343        0        2   \n\n   1/24/20  1/25/20  1/26/20  1/27/20  ...  2/20/20  2/21/20  2/22/20  \\\n0       15       39       60       70  ...      987      988      989   \n1       36       41       68       80  ...      395      396      399   \n2       27       57       75      110  ...      567      572      573   \n3       10       18       35       59  ...      293      293      293   \n4        2        4        7       14  ...       91       91       91   \n\n   2/23/20  2/24/20  2/25/20  2/26/20  2/27/20  2/28/20  2/29/20  \n0      989      989      989      989      989      990      990  \n1      399      399      400      400      410      410      411  \n2      575      576      576      576      576      576      576  \n3      293      293      294      294      296      296      296  \n4       91       91       91       91       91       91       91  \n\n[5 rows x 43 columns]",
      "text/html": "<div>\n<style scoped>\n    .dataframe tbody tr th:only-of-type {\n        vertical-align: middle;\n    }\n\n    .dataframe tbody tr th {\n        vertical-align: top;\n    }\n\n    .dataframe thead th {\n        text-align: right;\n    }\n</style>\n<table border=\"1\" class=\"dataframe\">\n  <thead>\n    <tr style=\"text-align: right;\">\n      <th></th>\n      <th>Province/State</th>\n      <th>Country/Region</th>\n      <th>Lat</th>\n      <th>Long</th>\n      <th>1/22/20</th>\n      <th>1/23/20</th>\n      <th>1/24/20</th>\n      <th>1/25/20</th>\n      <th>1/26/20</th>\n      <th>1/27/20</th>\n      <th>...</th>\n      <th>2/20/20</th>\n      <th>2/21/20</th>\n      <th>2/22/20</th>\n      <th>2/23/20</th>\n      <th>2/24/20</th>\n      <th>2/25/20</th>\n      <th>2/26/20</th>\n      <th>2/27/20</th>\n      <th>2/28/20</th>\n      <th>2/29/20</th>\n    </tr>\n  </thead>\n  <tbody>\n    <tr>\n      <th>0</th>\n      <td>Anhui</td>\n      <td>Mainland China</td>\n      <td>31.8257</td>\n      <td>117.2264</td>\n      <td>1</td>\n      <td>9</td>\n      <td>15</td>\n      <td>39</td>\n      <td>60</td>\n      <td>70</td>\n      <td>...</td>\n      <td>987</td>\n      <td>988</td>\n      <td>989</td>\n      <td>989</td>\n      <td>989</td>\n      <td>989</td>\n      <td>989</td>\n      <td>989</td>\n      <td>990</td>\n      <td>990</td>\n    </tr>\n    <tr>\n      <th>1</th>\n      <td>Beijing</td>\n      <td>Mainland China</td>\n      <td>40.1824</td>\n      <td>116.4142</td>\n      <td>14</td>\n      <td>22</td>\n      <td>36</td>\n      <td>41</td>\n      <td>68</td>\n      <td>80</td>\n      <td>...</td>\n      <td>395</td>\n      <td>396</td>\n      <td>399</td>\n      <td>399</td>\n      <td>399</td>\n      <td>400</td>\n      <td>400</td>\n      <td>410</td>\n      <td>410</td>\n      <td>411</td>\n    </tr>\n    <tr>\n      <th>2</th>\n      <td>Chongqing</td>\n      <td>Mainland China</td>\n      <td>30.0572</td>\n      <td>107.8740</td>\n      <td>6</td>\n      <td>9</td>\n      <td>27</td>\n      <td>57</td>\n      <td>75</td>\n      <td>110</td>\n      <td>...</td>\n      <td>567</td>\n      <td>572</td>\n      <td>573</td>\n      <td>575</td>\n      <td>576</td>\n      <td>576</td>\n      <td>576</td>\n      <td>576</td>\n      <td>576</td>\n      <td>576</td>\n    </tr>\n    <tr>\n      <th>3</th>\n      <td>Fujian</td>\n      <td>Mainland China</td>\n      <td>26.0789</td>\n      <td>117.9874</td>\n      <td>1</td>\n      <td>5</td>\n      <td>10</td>\n      <td>18</td>\n      <td>35</td>\n      <td>59</td>\n      <td>...</td>\n      <td>293</td>\n      <td>293</td>\n      <td>293</td>\n      <td>293</td>\n      <td>293</td>\n      <td>294</td>\n      <td>294</td>\n      <td>296</td>\n      <td>296</td>\n      <td>296</td>\n    </tr>\n    <tr>\n      <th>4</th>\n      <td>Gansu</td>\n      <td>Mainland China</td>\n      <td>36.0611</td>\n      <td>103.8343</td>\n      <td>0</td>\n      <td>2</td>\n      <td>2</td>\n      <td>4</td>\n      <td>7</td>\n      <td>14</td>\n      <td>...</td>\n      <td>91</td>\n      <td>91</td>\n      <td>91</td>\n      <td>91</td>\n      <td>91</td>\n      <td>91</td>\n      <td>91</td>\n      <td>91</td>\n      <td>91</td>\n      <td>91</td>\n    </tr>\n  </tbody>\n</table>\n<p>5 rows × 43 columns</p>\n</div>"
     },
     "metadata": {},
     "output_type": "execute_result",
     "execution_count": 159
    }
   ],
   "source": [
    "confirmed.head()"
   ]
  },
  {
   "cell_type": "code",
   "execution_count": 160,
   "metadata": {
    "pycharm": {
     "is_executing": false
    }
   },
   "outputs": [
    {
     "data": {
      "text/plain": "  Province/State  Country/Region      Lat      Long  1/22/20  1/23/20  \\\n0          Anhui  Mainland China  31.8257  117.2264        0        0   \n1        Beijing  Mainland China  40.1824  116.4142        0        0   \n2      Chongqing  Mainland China  30.0572  107.8740        0        0   \n3         Fujian  Mainland China  26.0789  117.9874        0        0   \n4          Gansu  Mainland China  36.0611  103.8343        0        0   \n\n   1/24/20  1/25/20  1/26/20  1/27/20  ...  2/20/20  2/21/20  2/22/20  \\\n0        0        0        0        0  ...        6        6        6   \n1        0        0        0        1  ...        4        4        4   \n2        0        0        0        0  ...        6        6        6   \n3        0        0        0        0  ...        1        1        1   \n4        0        0        0        0  ...        2        2        2   \n\n   2/23/20  2/24/20  2/25/20  2/26/20  2/27/20  2/28/20  2/29/20  \n0        6        6        6        6        6        6        6  \n1        4        4        4        4        5        7        8  \n2        6        6        6        6        6        6        6  \n3        1        1        1        1        1        1        1  \n4        2        2        2        2        2        2        2  \n\n[5 rows x 43 columns]",
      "text/html": "<div>\n<style scoped>\n    .dataframe tbody tr th:only-of-type {\n        vertical-align: middle;\n    }\n\n    .dataframe tbody tr th {\n        vertical-align: top;\n    }\n\n    .dataframe thead th {\n        text-align: right;\n    }\n</style>\n<table border=\"1\" class=\"dataframe\">\n  <thead>\n    <tr style=\"text-align: right;\">\n      <th></th>\n      <th>Province/State</th>\n      <th>Country/Region</th>\n      <th>Lat</th>\n      <th>Long</th>\n      <th>1/22/20</th>\n      <th>1/23/20</th>\n      <th>1/24/20</th>\n      <th>1/25/20</th>\n      <th>1/26/20</th>\n      <th>1/27/20</th>\n      <th>...</th>\n      <th>2/20/20</th>\n      <th>2/21/20</th>\n      <th>2/22/20</th>\n      <th>2/23/20</th>\n      <th>2/24/20</th>\n      <th>2/25/20</th>\n      <th>2/26/20</th>\n      <th>2/27/20</th>\n      <th>2/28/20</th>\n      <th>2/29/20</th>\n    </tr>\n  </thead>\n  <tbody>\n    <tr>\n      <th>0</th>\n      <td>Anhui</td>\n      <td>Mainland China</td>\n      <td>31.8257</td>\n      <td>117.2264</td>\n      <td>0</td>\n      <td>0</td>\n      <td>0</td>\n      <td>0</td>\n      <td>0</td>\n      <td>0</td>\n      <td>...</td>\n      <td>6</td>\n      <td>6</td>\n      <td>6</td>\n      <td>6</td>\n      <td>6</td>\n      <td>6</td>\n      <td>6</td>\n      <td>6</td>\n      <td>6</td>\n      <td>6</td>\n    </tr>\n    <tr>\n      <th>1</th>\n      <td>Beijing</td>\n      <td>Mainland China</td>\n      <td>40.1824</td>\n      <td>116.4142</td>\n      <td>0</td>\n      <td>0</td>\n      <td>0</td>\n      <td>0</td>\n      <td>0</td>\n      <td>1</td>\n      <td>...</td>\n      <td>4</td>\n      <td>4</td>\n      <td>4</td>\n      <td>4</td>\n      <td>4</td>\n      <td>4</td>\n      <td>4</td>\n      <td>5</td>\n      <td>7</td>\n      <td>8</td>\n    </tr>\n    <tr>\n      <th>2</th>\n      <td>Chongqing</td>\n      <td>Mainland China</td>\n      <td>30.0572</td>\n      <td>107.8740</td>\n      <td>0</td>\n      <td>0</td>\n      <td>0</td>\n      <td>0</td>\n      <td>0</td>\n      <td>0</td>\n      <td>...</td>\n      <td>6</td>\n      <td>6</td>\n      <td>6</td>\n      <td>6</td>\n      <td>6</td>\n      <td>6</td>\n      <td>6</td>\n      <td>6</td>\n      <td>6</td>\n      <td>6</td>\n    </tr>\n    <tr>\n      <th>3</th>\n      <td>Fujian</td>\n      <td>Mainland China</td>\n      <td>26.0789</td>\n      <td>117.9874</td>\n      <td>0</td>\n      <td>0</td>\n      <td>0</td>\n      <td>0</td>\n      <td>0</td>\n      <td>0</td>\n      <td>...</td>\n      <td>1</td>\n      <td>1</td>\n      <td>1</td>\n      <td>1</td>\n      <td>1</td>\n      <td>1</td>\n      <td>1</td>\n      <td>1</td>\n      <td>1</td>\n      <td>1</td>\n    </tr>\n    <tr>\n      <th>4</th>\n      <td>Gansu</td>\n      <td>Mainland China</td>\n      <td>36.0611</td>\n      <td>103.8343</td>\n      <td>0</td>\n      <td>0</td>\n      <td>0</td>\n      <td>0</td>\n      <td>0</td>\n      <td>0</td>\n      <td>...</td>\n      <td>2</td>\n      <td>2</td>\n      <td>2</td>\n      <td>2</td>\n      <td>2</td>\n      <td>2</td>\n      <td>2</td>\n      <td>2</td>\n      <td>2</td>\n      <td>2</td>\n    </tr>\n  </tbody>\n</table>\n<p>5 rows × 43 columns</p>\n</div>"
     },
     "metadata": {},
     "output_type": "execute_result",
     "execution_count": 160
    }
   ],
   "source": [
    "deaths.head()"
   ]
  },
  {
   "cell_type": "code",
   "execution_count": 161,
   "metadata": {
    "pycharm": {
     "is_executing": false
    }
   },
   "outputs": [
    {
     "data": {
      "text/plain": "  Province/State  Country/Region      Lat      Long  1/22/20  1/23/20  \\\n0          Anhui  Mainland China  31.8257  117.2264        0        0   \n1        Beijing  Mainland China  40.1824  116.4142        0        0   \n2      Chongqing  Mainland China  30.0572  107.8740        0        0   \n3         Fujian  Mainland China  26.0789  117.9874        0        0   \n4          Gansu  Mainland China  36.0611  103.8343        0        0   \n\n   1/24/20  1/25/20  1/26/20  1/27/20  ...  2/20/20  2/21/20  2/22/20  \\\n0        0        0        0        0  ...      474      539      597   \n1        1        2        2        2  ...      153      169      178   \n2        0        0        0        0  ...      299      316      328   \n3        0        0        0        0  ...      126      149      162   \n4        0        0        0        0  ...       71       76       76   \n\n   2/23/20  2/24/20  2/25/20  2/26/20  2/27/20  2/28/20  2/29/20  \n0      637      663      712      744      792      821      868  \n1      189      198      215      235      248      257      271  \n2      335      349      372      384      401      422      438  \n3      170      183      199      218      228      235      243  \n4       78       80       80       81       81       82       82  \n\n[5 rows x 43 columns]",
      "text/html": "<div>\n<style scoped>\n    .dataframe tbody tr th:only-of-type {\n        vertical-align: middle;\n    }\n\n    .dataframe tbody tr th {\n        vertical-align: top;\n    }\n\n    .dataframe thead th {\n        text-align: right;\n    }\n</style>\n<table border=\"1\" class=\"dataframe\">\n  <thead>\n    <tr style=\"text-align: right;\">\n      <th></th>\n      <th>Province/State</th>\n      <th>Country/Region</th>\n      <th>Lat</th>\n      <th>Long</th>\n      <th>1/22/20</th>\n      <th>1/23/20</th>\n      <th>1/24/20</th>\n      <th>1/25/20</th>\n      <th>1/26/20</th>\n      <th>1/27/20</th>\n      <th>...</th>\n      <th>2/20/20</th>\n      <th>2/21/20</th>\n      <th>2/22/20</th>\n      <th>2/23/20</th>\n      <th>2/24/20</th>\n      <th>2/25/20</th>\n      <th>2/26/20</th>\n      <th>2/27/20</th>\n      <th>2/28/20</th>\n      <th>2/29/20</th>\n    </tr>\n  </thead>\n  <tbody>\n    <tr>\n      <th>0</th>\n      <td>Anhui</td>\n      <td>Mainland China</td>\n      <td>31.8257</td>\n      <td>117.2264</td>\n      <td>0</td>\n      <td>0</td>\n      <td>0</td>\n      <td>0</td>\n      <td>0</td>\n      <td>0</td>\n      <td>...</td>\n      <td>474</td>\n      <td>539</td>\n      <td>597</td>\n      <td>637</td>\n      <td>663</td>\n      <td>712</td>\n      <td>744</td>\n      <td>792</td>\n      <td>821</td>\n      <td>868</td>\n    </tr>\n    <tr>\n      <th>1</th>\n      <td>Beijing</td>\n      <td>Mainland China</td>\n      <td>40.1824</td>\n      <td>116.4142</td>\n      <td>0</td>\n      <td>0</td>\n      <td>1</td>\n      <td>2</td>\n      <td>2</td>\n      <td>2</td>\n      <td>...</td>\n      <td>153</td>\n      <td>169</td>\n      <td>178</td>\n      <td>189</td>\n      <td>198</td>\n      <td>215</td>\n      <td>235</td>\n      <td>248</td>\n      <td>257</td>\n      <td>271</td>\n    </tr>\n    <tr>\n      <th>2</th>\n      <td>Chongqing</td>\n      <td>Mainland China</td>\n      <td>30.0572</td>\n      <td>107.8740</td>\n      <td>0</td>\n      <td>0</td>\n      <td>0</td>\n      <td>0</td>\n      <td>0</td>\n      <td>0</td>\n      <td>...</td>\n      <td>299</td>\n      <td>316</td>\n      <td>328</td>\n      <td>335</td>\n      <td>349</td>\n      <td>372</td>\n      <td>384</td>\n      <td>401</td>\n      <td>422</td>\n      <td>438</td>\n    </tr>\n    <tr>\n      <th>3</th>\n      <td>Fujian</td>\n      <td>Mainland China</td>\n      <td>26.0789</td>\n      <td>117.9874</td>\n      <td>0</td>\n      <td>0</td>\n      <td>0</td>\n      <td>0</td>\n      <td>0</td>\n      <td>0</td>\n      <td>...</td>\n      <td>126</td>\n      <td>149</td>\n      <td>162</td>\n      <td>170</td>\n      <td>183</td>\n      <td>199</td>\n      <td>218</td>\n      <td>228</td>\n      <td>235</td>\n      <td>243</td>\n    </tr>\n    <tr>\n      <th>4</th>\n      <td>Gansu</td>\n      <td>Mainland China</td>\n      <td>36.0611</td>\n      <td>103.8343</td>\n      <td>0</td>\n      <td>0</td>\n      <td>0</td>\n      <td>0</td>\n      <td>0</td>\n      <td>0</td>\n      <td>...</td>\n      <td>71</td>\n      <td>76</td>\n      <td>76</td>\n      <td>78</td>\n      <td>80</td>\n      <td>80</td>\n      <td>81</td>\n      <td>81</td>\n      <td>82</td>\n      <td>82</td>\n    </tr>\n  </tbody>\n</table>\n<p>5 rows × 43 columns</p>\n</div>"
     },
     "metadata": {},
     "output_type": "execute_result",
     "execution_count": 161
    }
   ],
   "source": [
    "recovery.head()"
   ]
  },
  {
   "cell_type": "code",
   "execution_count": 162,
   "metadata": {
    "pycharm": {
     "is_executing": false
    }
   },
   "outputs": [],
   "source": [
    "# data cleanup\n",
    "confirmed = confirmed.drop(['Province/State','Lat', 'Long'], axis=1)\n",
    "deaths = deaths.drop(['Province/State','Lat', 'Long'], axis=1)\n",
    "recovery = recovery.drop(['Province/State','Lat', 'Long'], axis=1)"
   ]
  },
  {
   "cell_type": "code",
   "execution_count": 163,
   "metadata": {
    "pycharm": {
     "is_executing": false
    }
   },
   "outputs": [
    {
     "data": {
      "text/plain": "   Country/Region  1/22/20  1/23/20  1/24/20  1/25/20  1/26/20  1/27/20  \\\n0  Mainland China        1        9       15       39       60       70   \n1  Mainland China       14       22       36       41       68       80   \n2  Mainland China        6        9       27       57       75      110   \n3  Mainland China        1        5       10       18       35       59   \n4  Mainland China        0        2        2        4        7       14   \n\n   1/28/20  1/29/20  1/30/20  ...  2/20/20  2/21/20  2/22/20  2/23/20  \\\n0      106      152      200  ...      987      988      989      989   \n1       91      111      114  ...      395      396      399      399   \n2      132      147      182  ...      567      572      573      575   \n3       80       84      101  ...      293      293      293      293   \n4       19       24       26  ...       91       91       91       91   \n\n   2/24/20  2/25/20  2/26/20  2/27/20  2/28/20  2/29/20  \n0      989      989      989      989      990      990  \n1      399      400      400      410      410      411  \n2      576      576      576      576      576      576  \n3      293      294      294      296      296      296  \n4       91       91       91       91       91       91  \n\n[5 rows x 40 columns]",
      "text/html": "<div>\n<style scoped>\n    .dataframe tbody tr th:only-of-type {\n        vertical-align: middle;\n    }\n\n    .dataframe tbody tr th {\n        vertical-align: top;\n    }\n\n    .dataframe thead th {\n        text-align: right;\n    }\n</style>\n<table border=\"1\" class=\"dataframe\">\n  <thead>\n    <tr style=\"text-align: right;\">\n      <th></th>\n      <th>Country/Region</th>\n      <th>1/22/20</th>\n      <th>1/23/20</th>\n      <th>1/24/20</th>\n      <th>1/25/20</th>\n      <th>1/26/20</th>\n      <th>1/27/20</th>\n      <th>1/28/20</th>\n      <th>1/29/20</th>\n      <th>1/30/20</th>\n      <th>...</th>\n      <th>2/20/20</th>\n      <th>2/21/20</th>\n      <th>2/22/20</th>\n      <th>2/23/20</th>\n      <th>2/24/20</th>\n      <th>2/25/20</th>\n      <th>2/26/20</th>\n      <th>2/27/20</th>\n      <th>2/28/20</th>\n      <th>2/29/20</th>\n    </tr>\n  </thead>\n  <tbody>\n    <tr>\n      <th>0</th>\n      <td>Mainland China</td>\n      <td>1</td>\n      <td>9</td>\n      <td>15</td>\n      <td>39</td>\n      <td>60</td>\n      <td>70</td>\n      <td>106</td>\n      <td>152</td>\n      <td>200</td>\n      <td>...</td>\n      <td>987</td>\n      <td>988</td>\n      <td>989</td>\n      <td>989</td>\n      <td>989</td>\n      <td>989</td>\n      <td>989</td>\n      <td>989</td>\n      <td>990</td>\n      <td>990</td>\n    </tr>\n    <tr>\n      <th>1</th>\n      <td>Mainland China</td>\n      <td>14</td>\n      <td>22</td>\n      <td>36</td>\n      <td>41</td>\n      <td>68</td>\n      <td>80</td>\n      <td>91</td>\n      <td>111</td>\n      <td>114</td>\n      <td>...</td>\n      <td>395</td>\n      <td>396</td>\n      <td>399</td>\n      <td>399</td>\n      <td>399</td>\n      <td>400</td>\n      <td>400</td>\n      <td>410</td>\n      <td>410</td>\n      <td>411</td>\n    </tr>\n    <tr>\n      <th>2</th>\n      <td>Mainland China</td>\n      <td>6</td>\n      <td>9</td>\n      <td>27</td>\n      <td>57</td>\n      <td>75</td>\n      <td>110</td>\n      <td>132</td>\n      <td>147</td>\n      <td>182</td>\n      <td>...</td>\n      <td>567</td>\n      <td>572</td>\n      <td>573</td>\n      <td>575</td>\n      <td>576</td>\n      <td>576</td>\n      <td>576</td>\n      <td>576</td>\n      <td>576</td>\n      <td>576</td>\n    </tr>\n    <tr>\n      <th>3</th>\n      <td>Mainland China</td>\n      <td>1</td>\n      <td>5</td>\n      <td>10</td>\n      <td>18</td>\n      <td>35</td>\n      <td>59</td>\n      <td>80</td>\n      <td>84</td>\n      <td>101</td>\n      <td>...</td>\n      <td>293</td>\n      <td>293</td>\n      <td>293</td>\n      <td>293</td>\n      <td>293</td>\n      <td>294</td>\n      <td>294</td>\n      <td>296</td>\n      <td>296</td>\n      <td>296</td>\n    </tr>\n    <tr>\n      <th>4</th>\n      <td>Mainland China</td>\n      <td>0</td>\n      <td>2</td>\n      <td>2</td>\n      <td>4</td>\n      <td>7</td>\n      <td>14</td>\n      <td>19</td>\n      <td>24</td>\n      <td>26</td>\n      <td>...</td>\n      <td>91</td>\n      <td>91</td>\n      <td>91</td>\n      <td>91</td>\n      <td>91</td>\n      <td>91</td>\n      <td>91</td>\n      <td>91</td>\n      <td>91</td>\n      <td>91</td>\n    </tr>\n  </tbody>\n</table>\n<p>5 rows × 40 columns</p>\n</div>"
     },
     "metadata": {},
     "output_type": "execute_result",
     "execution_count": 163
    }
   ],
   "source": [
    "confirmed.head()"
   ]
  },
  {
   "cell_type": "code",
   "execution_count": 164,
   "metadata": {
    "pycharm": {
     "is_executing": false
    }
   },
   "outputs": [
    {
     "name": "stdout",
     "text": [
      "Index(['Afghanistan', 'Algeria', 'Australia', 'Austria', 'Bahrain', 'Belarus',\n",
      "       'Belgium', 'Brazil', 'Cambodia', 'Canada', 'Croatia', 'Denmark',\n",
      "       'Egypt', 'Estonia', 'Finland', 'France', 'Georgia', 'Germany', 'Greece',\n",
      "       'Hong Kong', 'Iceland', 'India', 'Iran', 'Iraq', 'Ireland', 'Israel',\n",
      "       'Italy', 'Japan', 'Kuwait', 'Lebanon', 'Lithuania', 'Luxembourg',\n",
      "       'Macau', 'Mainland China', 'Malaysia', 'Mexico', 'Monaco', 'Nepal',\n",
      "       'Netherlands', 'New Zealand', 'Nigeria', 'North Macedonia', 'Norway',\n",
      "       'Oman', 'Others', 'Pakistan', 'Philippines', 'Qatar', 'Romania',\n",
      "       'Russia', 'San Marino', 'Singapore', 'South Korea', 'Spain',\n",
      "       'Sri Lanka', 'Sweden', 'Switzerland', 'Taiwan', 'Thailand', 'UK', 'US',\n",
      "       'United Arab Emirates', 'Vietnam'],\n",
      "      dtype='object', name='Country/Region')\n"
     ],
     "output_type": "stream"
    }
   ],
   "source": [
    "# group data by country\n",
    "confirmed_groupby_country = confirmed.groupby(confirmed['Country/Region']).sum()\n",
    "deaths_groupby_country = deaths.groupby(deaths['Country/Region']).sum()\n",
    "recovery_groupby_country = recovery.groupby(recovery['Country/Region']).sum()\n",
    "print(confirmed_groupby_country.index)\n",
    "# aggregate data\n",
    "aggregate_confirmed = confirmed_groupby_country.sum()\n",
    "aggregate_deaths = deaths_groupby_country.sum()\n",
    "aggregate_recovery = recovery_groupby_country.sum()"
   ]
  },
  {
   "cell_type": "code",
   "execution_count": 165,
   "metadata": {
    "pycharm": {
     "is_executing": false
    }
   },
   "outputs": [
    {
     "data": {
      "text/plain": "<matplotlib.axes._subplots.AxesSubplot at 0x1d43bfb7b88>"
     },
     "metadata": {},
     "output_type": "execute_result",
     "execution_count": 165
    },
    {
     "data": {
      "text/plain": "<Figure size 432x288 with 1 Axes>",
      "image/png": "[encoded data removed]"
     },
     "metadata": {
      "needs_background": "light"
     },
     "output_type": "display_data"
    }
   ],
   "source": [
    "# plot aggregate data\n",
    "ax = aggregate_confirmed.plot(legend=True, title='Coronavirus Time Series', label='Confirmed')\n",
    "aggregate_deaths.plot(ax=ax, legend=True, label='Deaths')\n",
    "aggregate_recovery.plot(ax=ax, legend=True, label='Recovered')"
   ]
  },
  {
   "cell_type": "code",
   "execution_count": 166,
   "metadata": {
    "pycharm": {
     "is_executing": false
    }
   },
   "outputs": [],
   "source": [
    "# calculating daily deltas\n",
    "confirmed_daily_delta = (aggregate_confirmed[-1] - aggregate_confirmed[-2])/aggregate_confirmed[-2]\n",
    "deaths_daily_delta = (aggregate_deaths[-1] - aggregate_deaths[-2])/aggregate_deaths[-2]\n",
    "recovery_daily_delta = (aggregate_recovery[-1] - aggregate_recovery[-2])/aggregate_recovery[-2]\n",
    "\n",
    "# calculating weekly deltas\n",
    "confirmed_weekly_delta = (aggregate_confirmed[-1] - aggregate_confirmed[-8])/aggregate_confirmed[-8]\n",
    "deaths_weekly_delta = (aggregate_deaths[-1] - aggregate_deaths[-8])/aggregate_deaths[-8]\n",
    "recovery_weekly_delta = (aggregate_recovery[-1] - aggregate_recovery[-8])/aggregate_recovery[-8]"
   ]
  },
  {
   "cell_type": "code",
   "execution_count": 167,
   "metadata": {
    "pycharm": {
     "is_executing": false
    }
   },
   "outputs": [
    {
     "data": {
      "text/plain": "           Daily Delta  Weekly Delta\nConfirmed     0.022479      0.094327\nDeaths        0.024025      0.196501\nRecovered     0.083653      0.738268",
      "text/html": "<div>\n<style scoped>\n    .dataframe tbody tr th:only-of-type {\n        vertical-align: middle;\n    }\n\n    .dataframe tbody tr th {\n        vertical-align: top;\n    }\n\n    .dataframe thead th {\n        text-align: right;\n    }\n</style>\n<table border=\"1\" class=\"dataframe\">\n  <thead>\n    <tr style=\"text-align: right;\">\n      <th></th>\n      <th>Daily Delta</th>\n      <th>Weekly Delta</th>\n    </tr>\n  </thead>\n  <tbody>\n    <tr>\n      <th>Confirmed</th>\n      <td>0.022479</td>\n      <td>0.094327</td>\n    </tr>\n    <tr>\n      <th>Deaths</th>\n      <td>0.024025</td>\n      <td>0.196501</td>\n    </tr>\n    <tr>\n      <th>Recovered</th>\n      <td>0.083653</td>\n      <td>0.738268</td>\n    </tr>\n  </tbody>\n</table>\n</div>"
     },
     "metadata": {},
     "output_type": "execute_result",
     "execution_count": 167
    }
   ],
   "source": [
    "# create deltas dataframe\n",
    "deltas = {'Daily Delta': [confirmed_daily_delta, deaths_daily_delta, recovery_daily_delta], \n",
    "          'Weekly Delta': [confirmed_weekly_delta, deaths_weekly_delta, recovery_weekly_delta]}\n",
    "delta_df = pd.DataFrame(data=deltas, index=['Confirmed', 'Deaths', 'Recovered'])\n",
    "delta_df"
   ]
  },
  {
   "cell_type": "code",
   "execution_count": 168,
   "metadata": {
    "pycharm": {
     "is_executing": false
    }
   },
   "outputs": [
    {
     "data": {
      "text/plain": "                  Daily Delta         Weekly Delta\nConfirmed  2.247925631820451%   9.432689983333121%\nDeaths     2.402506963788301%  19.650122050447518%\nRecovered  8.365340088801721%   73.82679367298786%",
      "text/html": "<div>\n<style scoped>\n    .dataframe tbody tr th:only-of-type {\n        vertical-align: middle;\n    }\n\n    .dataframe tbody tr th {\n        vertical-align: top;\n    }\n\n    .dataframe thead th {\n        text-align: right;\n    }\n</style>\n<table border=\"1\" class=\"dataframe\">\n  <thead>\n    <tr style=\"text-align: right;\">\n      <th></th>\n      <th>Daily Delta</th>\n      <th>Weekly Delta</th>\n    </tr>\n  </thead>\n  <tbody>\n    <tr>\n      <th>Confirmed</th>\n      <td>2.247925631820451%</td>\n      <td>9.432689983333121%</td>\n    </tr>\n    <tr>\n      <th>Deaths</th>\n      <td>2.402506963788301%</td>\n      <td>19.650122050447518%</td>\n    </tr>\n    <tr>\n      <th>Recovered</th>\n      <td>8.365340088801721%</td>\n      <td>73.82679367298786%</td>\n    </tr>\n  </tbody>\n</table>\n</div>"
     },
     "metadata": {},
     "output_type": "execute_result",
     "execution_count": 168
    }
   ],
   "source": [
    "# convert to percentage for easy understanding\n",
    "delta_df_percent = (delta_df * 100).astype(str) + '%'\n",
    "delta_df_percent"
   ]
  },
  {
   "cell_type": "code",
   "execution_count": 168,
   "metadata": {
    "pycharm": {
     "is_executing": false
    }
   },
   "outputs": [],
   "source": []
  }
 ],
 "metadata": {
  "kernelspec": {
   "display_name": "Python 3",
   "language": "python",
   "name": "python3"
  },
  "language_info": {
   "codemirror_mode": {
    "name": "ipython",
    "version": 3
   },
   "file_extension": ".py",
   "mimetype": "text/x-python",
   "name": "python",
   "nbconvert_exporter": "python",
   "pygments_lexer": "ipython3",
   "version": "3.7.3"
  },
  "pycharm": {
   "stem_cell": {
    "cell_type": "raw",
    "source": [],
    "metadata": {
     "collapsed": false
    }
   }
  }
 },
 "nbformat": 4,
 "nbformat_minor": 4
}
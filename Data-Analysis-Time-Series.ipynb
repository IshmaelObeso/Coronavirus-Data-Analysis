{
 "cells": [
  {
   "cell_type": "code",
   "execution_count": 108,
   "metadata": {
    "pycharm": {
     "is_executing": false
    }
   },
   "outputs": [],
   "source": [
    "import pandas as pd\n",
    "import numpy as np\n",
    "import matplotlib.pyplot as plt"
   ]
  },
  {
   "cell_type": "code",
   "execution_count": 109,
   "metadata": {
    "pycharm": {
     "is_executing": false
    }
   },
   "outputs": [],
   "source": [
    "confirmed = pd.read_csv('COVID-19/csse_covid_19_data/csse_covid_19_time_series/time_series_19-covid-Confirmed.csv')\n",
    "deaths = pd.read_csv('COVID-19/csse_covid_19_data/csse_covid_19_time_series/time_series_19-covid-Deaths.csv')\n",
    "recovery = pd.read_csv('COVID-19/csse_covid_19_data/csse_covid_19_time_series/time_series_19-covid-Recovered.csv')"
   ]
  },
  {
   "cell_type": "code",
   "execution_count": 110,
   "metadata": {
    "pycharm": {
     "is_executing": false
    }
   },
   "outputs": [
    {
     "data": {
      "text/plain": "  Province/State  Country/Region      Lat      Long  1/22/20  1/23/20  \\\n0          Anhui  Mainland China  31.8257  117.2264        1        9   \n1        Beijing  Mainland China  40.1824  116.4142       14       22   \n2      Chongqing  Mainland China  30.0572  107.8740        6        9   \n3         Fujian  Mainland China  26.0789  117.9874        1        5   \n4          Gansu  Mainland China  36.0611  103.8343        0        2   \n\n   1/24/20  1/25/20  1/26/20  1/27/20  ...  2/21/20  2/22/20  2/23/20  \\\n0       15       39       60       70  ...      988      989      989   \n1       36       41       68       80  ...      396      399      399   \n2       27       57       75      110  ...      572      573      575   \n3       10       18       35       59  ...      293      293      293   \n4        2        4        7       14  ...       91       91       91   \n\n   2/24/20  2/25/20  2/26/20  2/27/20  2/28/20  2/29/20  3/01/20  \n0      989      989      989      989      990      990      990  \n1      399      400      400      410      410      411      413  \n2      576      576      576      576      576      576      576  \n3      293      294      294      296      296      296      296  \n4       91       91       91       91       91       91       91  \n\n[5 rows x 44 columns]",
      "text/html": "<div>\n<style scoped>\n    .dataframe tbody tr th:only-of-type {\n        vertical-align: middle;\n    }\n\n    .dataframe tbody tr th {\n        vertical-align: top;\n    }\n\n    .dataframe thead th {\n        text-align: right;\n    }\n</style>\n<table border=\"1\" class=\"dataframe\">\n  <thead>\n    <tr style=\"text-align: right;\">\n      <th></th>\n      <th>Province/State</th>\n      <th>Country/Region</th>\n      <th>Lat</th>\n      <th>Long</th>\n      <th>1/22/20</th>\n      <th>1/23/20</th>\n      <th>1/24/20</th>\n      <th>1/25/20</th>\n      <th>1/26/20</th>\n      <th>1/27/20</th>\n      <th>...</th>\n      <th>2/21/20</th>\n      <th>2/22/20</th>\n      <th>2/23/20</th>\n      <th>2/24/20</th>\n      <th>2/25/20</th>\n      <th>2/26/20</th>\n      <th>2/27/20</th>\n      <th>2/28/20</th>\n      <th>2/29/20</th>\n      <th>3/01/20</th>\n    </tr>\n  </thead>\n  <tbody>\n    <tr>\n      <th>0</th>\n      <td>Anhui</td>\n      <td>Mainland China</td>\n      <td>31.8257</td>\n      <td>117.2264</td>\n      <td>1</td>\n      <td>9</td>\n      <td>15</td>\n      <td>39</td>\n      <td>60</td>\n      <td>70</td>\n      <td>...</td>\n      <td>988</td>\n      <td>989</td>\n      <td>989</td>\n      <td>989</td>\n      <td>989</td>\n      <td>989</td>\n      <td>989</td>\n      <td>990</td>\n      <td>990</td>\n      <td>990</td>\n    </tr>\n    <tr>\n      <th>1</th>\n      <td>Beijing</td>\n      <td>Mainland China</td>\n      <td>40.1824</td>\n      <td>116.4142</td>\n      <td>14</td>\n      <td>22</td>\n      <td>36</td>\n      <td>41</td>\n      <td>68</td>\n      <td>80</td>\n      <td>...</td>\n      <td>396</td>\n      <td>399</td>\n      <td>399</td>\n      <td>399</td>\n      <td>400</td>\n      <td>400</td>\n      <td>410</td>\n      <td>410</td>\n      <td>411</td>\n      <td>413</td>\n    </tr>\n    <tr>\n      <th>2</th>\n      <td>Chongqing</td>\n      <td>Mainland China</td>\n      <td>30.0572</td>\n      <td>107.8740</td>\n      <td>6</td>\n      <td>9</td>\n      <td>27</td>\n      <td>57</td>\n      <td>75</td>\n      <td>110</td>\n      <td>...</td>\n      <td>572</td>\n      <td>573</td>\n      <td>575</td>\n      <td>576</td>\n      <td>576</td>\n      <td>576</td>\n      <td>576</td>\n      <td>576</td>\n      <td>576</td>\n      <td>576</td>\n    </tr>\n    <tr>\n      <th>3</th>\n      <td>Fujian</td>\n      <td>Mainland China</td>\n      <td>26.0789</td>\n      <td>117.9874</td>\n      <td>1</td>\n      <td>5</td>\n      <td>10</td>\n      <td>18</td>\n      <td>35</td>\n      <td>59</td>\n      <td>...</td>\n      <td>293</td>\n      <td>293</td>\n      <td>293</td>\n      <td>293</td>\n      <td>294</td>\n      <td>294</td>\n      <td>296</td>\n      <td>296</td>\n      <td>296</td>\n      <td>296</td>\n    </tr>\n    <tr>\n      <th>4</th>\n      <td>Gansu</td>\n      <td>Mainland China</td>\n      <td>36.0611</td>\n      <td>103.8343</td>\n      <td>0</td>\n      <td>2</td>\n      <td>2</td>\n      <td>4</td>\n      <td>7</td>\n      <td>14</td>\n      <td>...</td>\n      <td>91</td>\n      <td>91</td>\n      <td>91</td>\n      <td>91</td>\n      <td>91</td>\n      <td>91</td>\n      <td>91</td>\n      <td>91</td>\n      <td>91</td>\n      <td>91</td>\n    </tr>\n  </tbody>\n</table>\n<p>5 rows × 44 columns</p>\n</div>"
     },
     "metadata": {},
     "output_type": "execute_result",
     "execution_count": 110
    }
   ],
   "source": [
    "confirmed.head()"
   ]
  },
  {
   "cell_type": "code",
   "execution_count": 111,
   "metadata": {
    "pycharm": {
     "is_executing": false
    }
   },
   "outputs": [
    {
     "data": {
      "text/plain": "  Province/State  Country/Region      Lat      Long  1/22/20  1/23/20  \\\n0          Anhui  Mainland China  31.8257  117.2264        0        0   \n1        Beijing  Mainland China  40.1824  116.4142        0        0   \n2      Chongqing  Mainland China  30.0572  107.8740        0        0   \n3         Fujian  Mainland China  26.0789  117.9874        0        0   \n4          Gansu  Mainland China  36.0611  103.8343        0        0   \n\n   1/24/20  1/25/20  1/26/20  1/27/20  ...  2/21/20  2/22/20  2/23/20  \\\n0        0        0        0        0  ...        6        6        6   \n1        0        0        0        1  ...        4        4        4   \n2        0        0        0        0  ...        6        6        6   \n3        0        0        0        0  ...        1        1        1   \n4        0        0        0        0  ...        2        2        2   \n\n   2/24/20  2/25/20  2/26/20  2/27/20  2/28/20  2/29/20  3/01/20  \n0        6        6        6        6        6        6        6  \n1        4        4        4        5        7        8        8  \n2        6        6        6        6        6        6        6  \n3        1        1        1        1        1        1        1  \n4        2        2        2        2        2        2        2  \n\n[5 rows x 44 columns]",
      "text/html": "<div>\n<style scoped>\n    .dataframe tbody tr th:only-of-type {\n        vertical-align: middle;\n    }\n\n    .dataframe tbody tr th {\n        vertical-align: top;\n    }\n\n    .dataframe thead th {\n        text-align: right;\n    }\n</style>\n<table border=\"1\" class=\"dataframe\">\n  <thead>\n    <tr style=\"text-align: right;\">\n      <th></th>\n      <th>Province/State</th>\n      <th>Country/Region</th>\n      <th>Lat</th>\n      <th>Long</th>\n      <th>1/22/20</th>\n      <th>1/23/20</th>\n      <th>1/24/20</th>\n      <th>1/25/20</th>\n      <th>1/26/20</th>\n      <th>1/27/20</th>\n      <th>...</th>\n      <th>2/21/20</th>\n      <th>2/22/20</th>\n      <th>2/23/20</th>\n      <th>2/24/20</th>\n      <th>2/25/20</th>\n      <th>2/26/20</th>\n      <th>2/27/20</th>\n      <th>2/28/20</th>\n      <th>2/29/20</th>\n      <th>3/01/20</th>\n    </tr>\n  </thead>\n  <tbody>\n    <tr>\n      <th>0</th>\n      <td>Anhui</td>\n      <td>Mainland China</td>\n      <td>31.8257</td>\n      <td>117.2264</td>\n      <td>0</td>\n      <td>0</td>\n      <td>0</td>\n      <td>0</td>\n      <td>0</td>\n      <td>0</td>\n      <td>...</td>\n      <td>6</td>\n      <td>6</td>\n      <td>6</td>\n      <td>6</td>\n      <td>6</td>\n      <td>6</td>\n      <td>6</td>\n      <td>6</td>\n      <td>6</td>\n      <td>6</td>\n    </tr>\n    <tr>\n      <th>1</th>\n      <td>Beijing</td>\n      <td>Mainland China</td>\n      <td>40.1824</td>\n      <td>116.4142</td>\n      <td>0</td>\n      <td>0</td>\n      <td>0</td>\n      <td>0</td>\n      <td>0</td>\n      <td>1</td>\n      <td>...</td>\n      <td>4</td>\n      <td>4</td>\n      <td>4</td>\n      <td>4</td>\n      <td>4</td>\n      <td>4</td>\n      <td>5</td>\n      <td>7</td>\n      <td>8</td>\n      <td>8</td>\n    </tr>\n    <tr>\n      <th>2</th>\n      <td>Chongqing</td>\n      <td>Mainland China</td>\n      <td>30.0572</td>\n      <td>107.8740</td>\n      <td>0</td>\n      <td>0</td>\n      <td>0</td>\n      <td>0</td>\n      <td>0</td>\n      <td>0</td>\n      <td>...</td>\n      <td>6</td>\n      <td>6</td>\n      <td>6</td>\n      <td>6</td>\n      <td>6</td>\n      <td>6</td>\n      <td>6</td>\n      <td>6</td>\n      <td>6</td>\n      <td>6</td>\n    </tr>\n    <tr>\n      <th>3</th>\n      <td>Fujian</td>\n      <td>Mainland China</td>\n      <td>26.0789</td>\n      <td>117.9874</td>\n      <td>0</td>\n      <td>0</td>\n      <td>0</td>\n      <td>0</td>\n      <td>0</td>\n      <td>0</td>\n      <td>...</td>\n      <td>1</td>\n      <td>1</td>\n      <td>1</td>\n      <td>1</td>\n      <td>1</td>\n      <td>1</td>\n      <td>1</td>\n      <td>1</td>\n      <td>1</td>\n      <td>1</td>\n    </tr>\n    <tr>\n      <th>4</th>\n      <td>Gansu</td>\n      <td>Mainland China</td>\n      <td>36.0611</td>\n      <td>103.8343</td>\n      <td>0</td>\n      <td>0</td>\n      <td>0</td>\n      <td>0</td>\n      <td>0</td>\n      <td>0</td>\n      <td>...</td>\n      <td>2</td>\n      <td>2</td>\n      <td>2</td>\n      <td>2</td>\n      <td>2</td>\n      <td>2</td>\n      <td>2</td>\n      <td>2</td>\n      <td>2</td>\n      <td>2</td>\n    </tr>\n  </tbody>\n</table>\n<p>5 rows × 44 columns</p>\n</div>"
     },
     "metadata": {},
     "output_type": "execute_result",
     "execution_count": 111
    }
   ],
   "source": [
    "deaths.head()"
   ]
  },
  {
   "cell_type": "code",
   "execution_count": 112,
   "metadata": {
    "pycharm": {
     "is_executing": false
    }
   },
   "outputs": [
    {
     "data": {
      "text/plain": "  Province/State  Country/Region      Lat      Long  1/22/20  1/23/20  \\\n0          Anhui  Mainland China  31.8257  117.2264        0        0   \n1        Beijing  Mainland China  40.1824  116.4142        0        0   \n2      Chongqing  Mainland China  30.0572  107.8740        0        0   \n3         Fujian  Mainland China  26.0789  117.9874        0        0   \n4          Gansu  Mainland China  36.0611  103.8343        0        0   \n\n   1/24/20  1/25/20  1/26/20  1/27/20  ...  2/21/20  2/22/20  2/23/20  \\\n0        0        0        0        0  ...      539      597      637   \n1        1        2        2        2  ...      169      178      189   \n2        0        0        0        0  ...      316      328      335   \n3        0        0        0        0  ...      149      162      170   \n4        0        0        0        0  ...       76       76       78   \n\n   2/24/20  2/25/20  2/26/20  2/27/20  2/28/20  2/29/20  3/01/20  \n0      663      712      744      792      821      868      873  \n1      198      215      235      248      257      271      276  \n2      349      372      384      401      422      438      450  \n3      183      199      218      228      235      243      247  \n4       80       80       81       81       82       82       84  \n\n[5 rows x 44 columns]",
      "text/html": "<div>\n<style scoped>\n    .dataframe tbody tr th:only-of-type {\n        vertical-align: middle;\n    }\n\n    .dataframe tbody tr th {\n        vertical-align: top;\n    }\n\n    .dataframe thead th {\n        text-align: right;\n    }\n</style>\n<table border=\"1\" class=\"dataframe\">\n  <thead>\n    <tr style=\"text-align: right;\">\n      <th></th>\n      <th>Province/State</th>\n      <th>Country/Region</th>\n      <th>Lat</th>\n      <th>Long</th>\n      <th>1/22/20</th>\n      <th>1/23/20</th>\n      <th>1/24/20</th>\n      <th>1/25/20</th>\n      <th>1/26/20</th>\n      <th>1/27/20</th>\n      <th>...</th>\n      <th>2/21/20</th>\n      <th>2/22/20</th>\n      <th>2/23/20</th>\n      <th>2/24/20</th>\n      <th>2/25/20</th>\n      <th>2/26/20</th>\n      <th>2/27/20</th>\n      <th>2/28/20</th>\n      <th>2/29/20</th>\n      <th>3/01/20</th>\n    </tr>\n  </thead>\n  <tbody>\n    <tr>\n      <th>0</th>\n      <td>Anhui</td>\n      <td>Mainland China</td>\n      <td>31.8257</td>\n      <td>117.2264</td>\n      <td>0</td>\n      <td>0</td>\n      <td>0</td>\n      <td>0</td>\n      <td>0</td>\n      <td>0</td>\n      <td>...</td>\n      <td>539</td>\n      <td>597</td>\n      <td>637</td>\n      <td>663</td>\n      <td>712</td>\n      <td>744</td>\n      <td>792</td>\n      <td>821</td>\n      <td>868</td>\n      <td>873</td>\n    </tr>\n    <tr>\n      <th>1</th>\n      <td>Beijing</td>\n      <td>Mainland China</td>\n      <td>40.1824</td>\n      <td>116.4142</td>\n      <td>0</td>\n      <td>0</td>\n      <td>1</td>\n      <td>2</td>\n      <td>2</td>\n      <td>2</td>\n      <td>...</td>\n      <td>169</td>\n      <td>178</td>\n      <td>189</td>\n      <td>198</td>\n      <td>215</td>\n      <td>235</td>\n      <td>248</td>\n      <td>257</td>\n      <td>271</td>\n      <td>276</td>\n    </tr>\n    <tr>\n      <th>2</th>\n      <td>Chongqing</td>\n      <td>Mainland China</td>\n      <td>30.0572</td>\n      <td>107.8740</td>\n      <td>0</td>\n      <td>0</td>\n      <td>0</td>\n      <td>0</td>\n      <td>0</td>\n      <td>0</td>\n      <td>...</td>\n      <td>316</td>\n      <td>328</td>\n      <td>335</td>\n      <td>349</td>\n      <td>372</td>\n      <td>384</td>\n      <td>401</td>\n      <td>422</td>\n      <td>438</td>\n      <td>450</td>\n    </tr>\n    <tr>\n      <th>3</th>\n      <td>Fujian</td>\n      <td>Mainland China</td>\n      <td>26.0789</td>\n      <td>117.9874</td>\n      <td>0</td>\n      <td>0</td>\n      <td>0</td>\n      <td>0</td>\n      <td>0</td>\n      <td>0</td>\n      <td>...</td>\n      <td>149</td>\n      <td>162</td>\n      <td>170</td>\n      <td>183</td>\n      <td>199</td>\n      <td>218</td>\n      <td>228</td>\n      <td>235</td>\n      <td>243</td>\n      <td>247</td>\n    </tr>\n    <tr>\n      <th>4</th>\n      <td>Gansu</td>\n      <td>Mainland China</td>\n      <td>36.0611</td>\n      <td>103.8343</td>\n      <td>0</td>\n      <td>0</td>\n      <td>0</td>\n      <td>0</td>\n      <td>0</td>\n      <td>0</td>\n      <td>...</td>\n      <td>76</td>\n      <td>76</td>\n      <td>78</td>\n      <td>80</td>\n      <td>80</td>\n      <td>81</td>\n      <td>81</td>\n      <td>82</td>\n      <td>82</td>\n      <td>84</td>\n    </tr>\n  </tbody>\n</table>\n<p>5 rows × 44 columns</p>\n</div>"
     },
     "metadata": {},
     "output_type": "execute_result",
     "execution_count": 112
    }
   ],
   "source": [
    "recovery.head()"
   ]
  },
  {
   "cell_type": "code",
   "execution_count": 113,
   "metadata": {
    "pycharm": {
     "is_executing": false
    }
   },
   "outputs": [],
   "source": [
    "# data cleanup\n",
    "confirmed = confirmed.drop(['Province/State','Lat', 'Long'], axis=1)\n",
    "deaths = deaths.drop(['Province/State','Lat', 'Long'], axis=1)\n",
    "recovery = recovery.drop(['Province/State','Lat', 'Long'], axis=1)"
   ]
  },
  {
   "cell_type": "code",
   "execution_count": 114,
   "metadata": {
    "pycharm": {
     "is_executing": false
    }
   },
   "outputs": [
    {
     "data": {
      "text/plain": "   Country/Region  1/22/20  1/23/20  1/24/20  1/25/20  1/26/20  1/27/20  \\\n0  Mainland China        1        9       15       39       60       70   \n1  Mainland China       14       22       36       41       68       80   \n2  Mainland China        6        9       27       57       75      110   \n3  Mainland China        1        5       10       18       35       59   \n4  Mainland China        0        2        2        4        7       14   \n\n   1/28/20  1/29/20  1/30/20  ...  2/21/20  2/22/20  2/23/20  2/24/20  \\\n0      106      152      200  ...      988      989      989      989   \n1       91      111      114  ...      396      399      399      399   \n2      132      147      182  ...      572      573      575      576   \n3       80       84      101  ...      293      293      293      293   \n4       19       24       26  ...       91       91       91       91   \n\n   2/25/20  2/26/20  2/27/20  2/28/20  2/29/20  3/01/20  \n0      989      989      989      990      990      990  \n1      400      400      410      410      411      413  \n2      576      576      576      576      576      576  \n3      294      294      296      296      296      296  \n4       91       91       91       91       91       91  \n\n[5 rows x 41 columns]",
      "text/html": "<div>\n<style scoped>\n    .dataframe tbody tr th:only-of-type {\n        vertical-align: middle;\n    }\n\n    .dataframe tbody tr th {\n        vertical-align: top;\n    }\n\n    .dataframe thead th {\n        text-align: right;\n    }\n</style>\n<table border=\"1\" class=\"dataframe\">\n  <thead>\n    <tr style=\"text-align: right;\">\n      <th></th>\n      <th>Country/Region</th>\n      <th>1/22/20</th>\n      <th>1/23/20</th>\n      <th>1/24/20</th>\n      <th>1/25/20</th>\n      <th>1/26/20</th>\n      <th>1/27/20</th>\n      <th>1/28/20</th>\n      <th>1/29/20</th>\n      <th>1/30/20</th>\n      <th>...</th>\n      <th>2/21/20</th>\n      <th>2/22/20</th>\n      <th>2/23/20</th>\n      <th>2/24/20</th>\n      <th>2/25/20</th>\n      <th>2/26/20</th>\n      <th>2/27/20</th>\n      <th>2/28/20</th>\n      <th>2/29/20</th>\n      <th>3/01/20</th>\n    </tr>\n  </thead>\n  <tbody>\n    <tr>\n      <th>0</th>\n      <td>Mainland China</td>\n      <td>1</td>\n      <td>9</td>\n      <td>15</td>\n      <td>39</td>\n      <td>60</td>\n      <td>70</td>\n      <td>106</td>\n      <td>152</td>\n      <td>200</td>\n      <td>...</td>\n      <td>988</td>\n      <td>989</td>\n      <td>989</td>\n      <td>989</td>\n      <td>989</td>\n      <td>989</td>\n      <td>989</td>\n      <td>990</td>\n      <td>990</td>\n      <td>990</td>\n    </tr>\n    <tr>\n      <th>1</th>\n      <td>Mainland China</td>\n      <td>14</td>\n      <td>22</td>\n      <td>36</td>\n      <td>41</td>\n      <td>68</td>\n      <td>80</td>\n      <td>91</td>\n      <td>111</td>\n      <td>114</td>\n      <td>...</td>\n      <td>396</td>\n      <td>399</td>\n      <td>399</td>\n      <td>399</td>\n      <td>400</td>\n      <td>400</td>\n      <td>410</td>\n      <td>410</td>\n      <td>411</td>\n      <td>413</td>\n    </tr>\n    <tr>\n      <th>2</th>\n      <td>Mainland China</td>\n      <td>6</td>\n      <td>9</td>\n      <td>27</td>\n      <td>57</td>\n      <td>75</td>\n      <td>110</td>\n      <td>132</td>\n      <td>147</td>\n      <td>182</td>\n      <td>...</td>\n      <td>572</td>\n      <td>573</td>\n      <td>575</td>\n      <td>576</td>\n      <td>576</td>\n      <td>576</td>\n      <td>576</td>\n      <td>576</td>\n      <td>576</td>\n      <td>576</td>\n    </tr>\n    <tr>\n      <th>3</th>\n      <td>Mainland China</td>\n      <td>1</td>\n      <td>5</td>\n      <td>10</td>\n      <td>18</td>\n      <td>35</td>\n      <td>59</td>\n      <td>80</td>\n      <td>84</td>\n      <td>101</td>\n      <td>...</td>\n      <td>293</td>\n      <td>293</td>\n      <td>293</td>\n      <td>293</td>\n      <td>294</td>\n      <td>294</td>\n      <td>296</td>\n      <td>296</td>\n      <td>296</td>\n      <td>296</td>\n    </tr>\n    <tr>\n      <th>4</th>\n      <td>Mainland China</td>\n      <td>0</td>\n      <td>2</td>\n      <td>2</td>\n      <td>4</td>\n      <td>7</td>\n      <td>14</td>\n      <td>19</td>\n      <td>24</td>\n      <td>26</td>\n      <td>...</td>\n      <td>91</td>\n      <td>91</td>\n      <td>91</td>\n      <td>91</td>\n      <td>91</td>\n      <td>91</td>\n      <td>91</td>\n      <td>91</td>\n      <td>91</td>\n      <td>91</td>\n    </tr>\n  </tbody>\n</table>\n<p>5 rows × 41 columns</p>\n</div>"
     },
     "metadata": {},
     "output_type": "execute_result",
     "execution_count": 114
    }
   ],
   "source": [
    "confirmed.head()"
   ]
  },
  {
   "cell_type": "code",
   "execution_count": 115,
   "metadata": {
    "pycharm": {
     "is_executing": false
    }
   },
   "outputs": [
    {
     "name": "stdout",
     "text": [
      "Index(['Afghanistan', 'Algeria', 'Armenia', 'Australia', 'Austria',\n",
      "       'Azerbaijan', 'Bahrain', 'Belarus', 'Belgium', 'Brazil', 'Cambodia',\n",
      "       'Canada', 'Croatia', 'Czech Republic', 'Denmark', 'Dominican Republic',\n",
      "       'Ecuador', 'Egypt', 'Estonia', 'Finland', 'France', 'Georgia',\n",
      "       'Germany', 'Greece', 'Hong Kong', 'Iceland', 'India', 'Iran', 'Iraq',\n",
      "       'Ireland', 'Israel', 'Italy', 'Japan', 'Kuwait', 'Lebanon', 'Lithuania',\n",
      "       'Luxembourg', 'Macau', 'Mainland China', 'Malaysia', 'Mexico', 'Monaco',\n",
      "       'Nepal', 'Netherlands', 'New Zealand', 'Nigeria', 'North Macedonia',\n",
      "       'Norway', 'Oman', 'Others', 'Pakistan', 'Philippines', 'Qatar',\n",
      "       'Romania', 'Russia', 'San Marino', 'Singapore', 'South Korea', 'Spain',\n",
      "       'Sri Lanka', 'Sweden', 'Switzerland', 'Taiwan', 'Thailand', 'UK', 'US',\n",
      "       'United Arab Emirates', 'Vietnam'],\n",
      "      dtype='object', name='Country/Region')\n"
     ],
     "output_type": "stream"
    }
   ],
   "source": [
    "# group data by country\n",
    "confirmed_groupby_country = confirmed.groupby(confirmed['Country/Region']).sum()\n",
    "deaths_groupby_country = deaths.groupby(deaths['Country/Region']).sum()\n",
    "recovery_groupby_country = recovery.groupby(recovery['Country/Region']).sum()\n",
    "print(confirmed_groupby_country.index)\n",
    "# aggregate data\n",
    "aggregate_confirmed = confirmed_groupby_country.sum()\n",
    "aggregate_deaths = deaths_groupby_country.sum()\n",
    "aggregate_recovery = recovery_groupby_country.sum()"
   ]
  },
  {
   "cell_type": "code",
   "execution_count": 116,
   "metadata": {
    "pycharm": {
     "is_executing": false
    }
   },
   "outputs": [
    {
     "data": {
      "text/plain": "<matplotlib.axes._subplots.AxesSubplot at 0x1fc90536188>"
     },
     "metadata": {},
     "output_type": "execute_result",
     "execution_count": 116
    },
    {
     "data": {
      "text/plain": "<Figure size 432x288 with 1 Axes>",
      "image/png": "[encoded data removed]"
     },
     "metadata": {
      "needs_background": "light"
     },
     "output_type": "display_data"
    }
   ],
   "source": [
    "# plot aggregate data\n",
    "ax = aggregate_confirmed.plot(legend=True, title='Coronavirus Time Series', label='Confirmed')\n",
    "aggregate_deaths.plot(ax=ax, legend=True, label='Deaths')\n",
    "aggregate_recovery.plot(ax=ax, legend=True, label='Recovered')"
   ]
  },
  {
   "cell_type": "code",
   "execution_count": 117,
   "metadata": {
    "pycharm": {
     "is_executing": false
    }
   },
   "outputs": [],
   "source": [
    "# calculating daily deltas\n",
    "confirmed_daily_delta = (confirmed_groupby_country.iloc[:,-1] - confirmed_groupby_country.iloc[:,-2])/confirmed_groupby_country.iloc[:,-2]\n",
    "deaths_daily_delta = (deaths_groupby_country.iloc[:,-1] - deaths_groupby_country.iloc[:,-2])/deaths_groupby_country.iloc[:,-2]\n",
    "recovery_daily_delta = (recovery_groupby_country.iloc[:,-1] - recovery_groupby_country.iloc[:,-2])/recovery_groupby_country.iloc[:,-2]\n",
    "\n",
    "# calculating weekly deltas\n",
    "confirmed_weekly_delta = (confirmed_groupby_country.iloc[:,-1] - confirmed_groupby_country.iloc[:,-8])/confirmed_groupby_country.iloc[:,-8]\n",
    "deaths_weekly_delta = (deaths_groupby_country.iloc[:,-1] - deaths_groupby_country.iloc[:,-8])/deaths_groupby_country.iloc[:,-8]\n",
    "recovery_weekly_delta = (recovery_groupby_country.iloc[:,-1] - recovery_groupby_country.iloc[:,-8])/recovery_groupby_country.iloc[:,-8]"
   ]
  },
  {
   "cell_type": "code",
   "execution_count": 118,
   "metadata": {
    "pycharm": {
     "is_executing": false
    }
   },
   "outputs": [
    {
     "name": "stdout",
     "text": [
      "          Country/Region  2/23/20  2/29/20  3/01/20\n",
      "0            Afghanistan        0        1        1\n",
      "1                Algeria        0        1        1\n",
      "2                Armenia        0        0        1\n",
      "3              Australia       22       25       27\n",
      "4                Austria        0        9       14\n",
      "..                   ...      ...      ...      ...\n",
      "63              Thailand       35       42       42\n",
      "64                    UK        9       23       36\n",
      "65                    US       35       70       76\n",
      "66  United Arab Emirates       13       21       21\n",
      "67               Vietnam       16       16       16\n",
      "\n",
      "[68 rows x 4 columns]\n",
      "                     Country/Region  2/23/20  2/29/20  3/01/20 Daily Delta  \\\n",
      "0                       Afghanistan      0.0      1.0      1.0         NaN   \n",
      "1                           Algeria      0.0      1.0      1.0         NaN   \n",
      "2                           Armenia      0.0      0.0      1.0         NaN   \n",
      "3                         Australia     22.0     25.0     27.0         NaN   \n",
      "4                           Austria      0.0      9.0     14.0         NaN   \n",
      "...                             ...      ...      ...      ...         ...   \n",
      "Thailand                        NaN      NaN      NaN      NaN           0   \n",
      "UK                              NaN      NaN      NaN      NaN    0.565217   \n",
      "US                              NaN      NaN      NaN      NaN   0.0857143   \n",
      "United Arab Emirates            NaN      NaN      NaN      NaN           0   \n",
      "Vietnam                         NaN      NaN      NaN      NaN           0   \n",
      "\n",
      "                     Weekly Delta  \n",
      "0                             NaN  \n",
      "1                             NaN  \n",
      "2                             NaN  \n",
      "3                             NaN  \n",
      "4                             NaN  \n",
      "...                           ...  \n",
      "Thailand                      0.2  \n",
      "UK                              3  \n",
      "US                        1.17143  \n",
      "United Arab Emirates     0.615385  \n",
      "Vietnam                         0  \n",
      "\n",
      "[136 rows x 6 columns]\n"
     ],
     "output_type": "stream"
    },
    {
     "data": {
      "text/plain": "                                                 Daily Delta  \\\nConfirmed  Country/Region\nAfghanistan             0.00000...   \nDeaths     Country/Region\nAfghanistan             NaN\nAlg...   \nRecovered  Country/Region\nAfghanistan             NaN\nAlg...   \n\n                                                Weekly Delta  \nConfirmed  Country/Region\nAfghanistan                  in...  \nDeaths     Country/Region\nAfghanistan             NaN\nAlg...  \nRecovered  Country/Region\nAfghanistan                  Na...  ",
      "text/html": "<div>\n<style scoped>\n    .dataframe tbody tr th:only-of-type {\n        vertical-align: middle;\n    }\n\n    .dataframe tbody tr th {\n        vertical-align: top;\n    }\n\n    .dataframe thead th {\n        text-align: right;\n    }\n</style>\n<table border=\"1\" class=\"dataframe\">\n  <thead>\n    <tr style=\"text-align: right;\">\n      <th></th>\n      <th>Daily Delta</th>\n      <th>Weekly Delta</th>\n    </tr>\n  </thead>\n  <tbody>\n    <tr>\n      <th>Confirmed</th>\n      <td>Country/Region\nAfghanistan             0.00000...</td>\n      <td>Country/Region\nAfghanistan                  in...</td>\n    </tr>\n    <tr>\n      <th>Deaths</th>\n      <td>Country/Region\nAfghanistan             NaN\nAlg...</td>\n      <td>Country/Region\nAfghanistan             NaN\nAlg...</td>\n    </tr>\n    <tr>\n      <th>Recovered</th>\n      <td>Country/Region\nAfghanistan             NaN\nAlg...</td>\n      <td>Country/Region\nAfghanistan                  Na...</td>\n    </tr>\n  </tbody>\n</table>\n</div>"
     },
     "metadata": {},
     "output_type": "execute_result",
     "execution_count": 118
    }
   ],
   "source": [
    "confirmed_history = pd.concat([confirmed_groupby_country.iloc[:,-8],\n",
    "                               confirmed_groupby_country.iloc[:,-2],\n",
    "                               confirmed_groupby_country.iloc[:,-1]],\n",
    "                              axis=1)\n",
    "deaths_history = pd.concat([deaths_groupby_country.iloc[:,-8],\n",
    "                            deaths_groupby_country.iloc[:,-2],\n",
    "                            deaths_groupby_country.iloc[:,-1]],\n",
    "                            axis=1)\n",
    "recovery_history = pd.concat([recovery_groupby_country.iloc[:,-8],\n",
    "                              recovery_groupby_country.iloc[:,-2],\n",
    "                              recovery_groupby_country.iloc[:,-1]],\n",
    "                             axis=1)\n",
    "\n",
    "\n",
    "# combine deltas and history\n",
    "confirmed_delta_df = pd.concat([confirmed_history, \n",
    "                                confirmed_daily_delta, \n",
    "                                confirmed_weekly_delta],\n",
    "                               axis=1).rename(columns={0: 'Daily Delta', 1: 'Weekly Delta'})\n",
    "deaths_delta_df = pd.concat([deaths_history, \n",
    "                                deaths_daily_delta, \n",
    "                                deaths_weekly_delta],\n",
    "                               axis=1).rename(columns={0: 'Daily Delta', 1: 'Weekly Delta'})\n",
    "recovery_delta_df = pd.concat([recovery_history, \n",
    "                                recovery_daily_delta, \n",
    "                                recovery_weekly_delta],\n",
    "                               axis=1).rename(columns={0: 'Daily Delta', 1: 'Weekly Delta'})\n",
    "\n",
    "confirmed_delta_df.replace([np.inf], 'n/a', inplace=True)\n",
    "print(confirmed_delta_df)\n",
    "\n",
    "\n",
    "\n",
    "\n",
    "\n",
    "# create deltas dataframe\n",
    "deltas = {'Daily Delta': [confirmed_daily_delta, deaths_daily_delta, recovery_daily_delta], \n",
    "          'Weekly Delta': [confirmed_weekly_delta, deaths_weekly_delta, recovery_weekly_delta]}\n",
    "delta_df = pd.DataFrame(data=deltas, index=['Confirmed', 'Deaths', 'Recovered'])\n",
    "delta_df"
   ]
  },
  {
   "cell_type": "code",
   "execution_count": 119,
   "metadata": {
    "pycharm": {
     "is_executing": false
    }
   },
   "outputs": [
    {
     "data": {
      "text/plain": "                                                 Daily Delta  \\\nConfirmed  Country/Region\\nAfghanistan              0.000...   \nDeaths     Country/Region\\nAfghanistan             NaN\\nA...   \nRecovered  Country/Region\\nAfghanistan             NaN\\nA...   \n\n                                                Weekly Delta  \nConfirmed  Country/Region\\nAfghanistan                   ...  \nDeaths     Country/Region\\nAfghanistan             NaN\\nA...  \nRecovered  Country/Region\\nAfghanistan                   ...  ",
      "text/html": "<div>\n<style scoped>\n    .dataframe tbody tr th:only-of-type {\n        vertical-align: middle;\n    }\n\n    .dataframe tbody tr th {\n        vertical-align: top;\n    }\n\n    .dataframe thead th {\n        text-align: right;\n    }\n</style>\n<table border=\"1\" class=\"dataframe\">\n  <thead>\n    <tr style=\"text-align: right;\">\n      <th></th>\n      <th>Daily Delta</th>\n      <th>Weekly Delta</th>\n    </tr>\n  </thead>\n  <tbody>\n    <tr>\n      <th>Confirmed</th>\n      <td>Country/Region\\nAfghanistan              0.000...</td>\n      <td>Country/Region\\nAfghanistan                   ...</td>\n    </tr>\n    <tr>\n      <th>Deaths</th>\n      <td>Country/Region\\nAfghanistan             NaN\\nA...</td>\n      <td>Country/Region\\nAfghanistan             NaN\\nA...</td>\n    </tr>\n    <tr>\n      <th>Recovered</th>\n      <td>Country/Region\\nAfghanistan             NaN\\nA...</td>\n      <td>Country/Region\\nAfghanistan                   ...</td>\n    </tr>\n  </tbody>\n</table>\n</div>"
     },
     "metadata": {},
     "output_type": "execute_result",
     "execution_count": 119
    }
   ],
   "source": [
    "# convert to percentage for easy understanding\n",
    "delta_df_percent = (delta_df * 100).astype(str) + '%'\n",
    "delta_df_percent"
   ]
  },
  {
   "cell_type": "code",
   "execution_count": 119,
   "metadata": {
    "pycharm": {
     "is_executing": false
    }
   },
   "outputs": [],
   "source": []
  }
 ],
 "metadata": {
  "kernelspec": {
   "display_name": "Python 3",
   "language": "python",
   "name": "python3"
  },
  "language_info": {
   "codemirror_mode": {
    "name": "ipython",
    "version": 3
   },
   "file_extension": ".py",
   "mimetype": "text/x-python",
   "name": "python",
   "nbconvert_exporter": "python",
   "pygments_lexer": "ipython3",
   "version": "3.7.3"
  },
  "pycharm": {
   "stem_cell": {
    "cell_type": "raw",
    "source": [],
    "metadata": {
     "collapsed": false
    }
   }
  }
 },
 "nbformat": 4,
 "nbformat_minor": 4
}